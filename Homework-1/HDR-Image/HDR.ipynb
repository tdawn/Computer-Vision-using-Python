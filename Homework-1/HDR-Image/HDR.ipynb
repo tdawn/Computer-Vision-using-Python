{
 "cells": [
  {
   "cell_type": "code",
   "execution_count": 4,
   "metadata": {},
   "outputs": [
    {
     "name": "stdout",
     "output_type": "stream",
     "text": [
      "[3.20000e+01 1.60000e+01 8.00000e+00 4.00000e+00 2.00000e+00 1.00000e+00\n",
      " 5.00000e-01 2.50000e-01 1.25000e-01 6.25000e-02 3.12500e-02 1.56250e-02\n",
      " 7.81250e-03 3.90625e-03]\n"
     ]
    },
    {
     "data": {
      "text/plain": [
       "True"
      ]
     },
     "execution_count": 4,
     "metadata": {},
     "output_type": "execute_result"
    }
   ],
   "source": [
    "# import the necessary packages\n",
    "from __future__ import print_function\n",
    "import cv2 as cv2\n",
    "import numpy as np\n",
    "import sys\n",
    "import matplotlib.pyplot as plt\n",
    "\n",
    "list = open(\"list.txt\")\n",
    "images = []\n",
    "times = []\n",
    "\n",
    "# Load each image in the list\n",
    "# Allocate an exposure time in seconds to each image\n",
    "for line in list:\n",
    "    imagePath = line.split()[0]\n",
    "    image = cv2.imread(imagePath)\n",
    "    images.append(image)\n",
    "    time = line.split()[1]\n",
    "    times.append(float(1.0/float(time)))\n",
    "    \n",
    "# Convert python arrays to numpy arrays\n",
    "# The times array seem to require setting dtype, otherwise we get NAN in each array entry\n",
    "npImages = np.array(images)\n",
    "npTimes = np.array(times,dtype=np.float32)\n",
    "\n",
    "print(npTimes)\n",
    "\n",
    "images,times = npImages, npTimes\n",
    "\n",
    "# Convert images to HDR\n",
    "calibrate = cv2.createCalibrateDebevec()\n",
    "response = calibrate.process(images, times)\n",
    "merge_debevec = cv2.createMergeDebevec()\n",
    "hdr = merge_debevec.process(images,times,response)\n",
    "\n",
    "# Tonemap using Drago's method to obtain 24-bit color image\n",
    "tonemapDrago = cv2.createTonemapDrago(1.3, 0.7)\n",
    "ldrDrago = tonemapDrago.process(hdr)\n",
    "ldrDrago = 3 * ldrDrago\n",
    "cv2.imwrite(\"Figure-Drago.jpg\", ldrDrago * 255)\n",
    "\n",
    "# Tonemap using Durand's method obtain 24-bit color image\n",
    "tonemapDurand = cv2.createTonemapDurand(1.5,3.5,0.7,0.4,1.1)\n",
    "ldrDurand = tonemapDurand.process(hdr)\n",
    "ldrDurand = 3 * ldrDurand\n",
    "cv2.imwrite(\"Figure-Durand.jpg\", ldrDurand * 255)\n",
    "\n",
    "# Tonemap using Mantiuk's method to obtain 24-bit color image\n",
    "tonemapMantiuk = cv2.createTonemapMantiuk(1.8,0.7, 0.7)\n",
    "ldrMantiuk = tonemapMantiuk.process(hdr)\n",
    "ldrMantiuk = 3 * ldrMantiuk\n",
    "cv2.imwrite(\"Figure-Mantiuk.jpg\", ldrMantiuk * 255)\n",
    "\n",
    "# Tonemap using Reinhard's method to obtain 24-bit color image\n",
    "tonemapReinhard = cv2.createTonemapReinhard(1.5, 0.9,0.9,0.5)\n",
    "ldrReinhard = tonemapReinhard.process(hdr)\n",
    "ldrMantiuk = 3 * ldrMantiuk\n",
    "cv2.imwrite(\"Figure-Reinhard.jpg\", ldrReinhard * 255)"
   ]
  },
  {
   "cell_type": "code",
   "execution_count": null,
   "metadata": {},
   "outputs": [],
   "source": []
  }
 ],
 "metadata": {
  "kernelspec": {
   "display_name": "Python 3",
   "language": "python",
   "name": "python3"
  },
  "language_info": {
   "codemirror_mode": {
    "name": "ipython",
    "version": 3
   },
   "file_extension": ".py",
   "mimetype": "text/x-python",
   "name": "python",
   "nbconvert_exporter": "python",
   "pygments_lexer": "ipython3",
   "version": "3.6.5"
  }
 },
 "nbformat": 4,
 "nbformat_minor": 2
}
